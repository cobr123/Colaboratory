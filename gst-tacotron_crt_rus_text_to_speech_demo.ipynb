{
 "cells": [
  {
   "cell_type": "markdown",
   "metadata": {
    "collapsed": true
   },
   "source": [
    "[View in Colaboratory](https://colab.research.google.com/github/cobr123/Colaboratory/blob/master/gst-tacotron_crt_rus_text_to_speech_demo.ipynb)"
   ]
  },
  {
   "cell_type": "markdown",
   "metadata": {},
   "source": [
    "##Setup"
   ]
  },
  {
   "cell_type": "markdown",
   "metadata": {},
   "source": [
    "###Install dependencies"
   ]
  },
  {
   "cell_type": "code",
   "execution_count": null,
   "metadata": {},
   "outputs": [],
   "source": [
    "import os\n",
    "from os.path import exists, join, expanduser\n",
    "\n",
    "gst_tacotron_dir = \"gst-tacotron-crt_lowercase\"\n",
    "os.chdir(join(expanduser(\"~\")))\n",
    "if not exists(gst_tacotron_dir):\n",
    "  ! curl -O -L \"https://drive.google.com/uc?export=download&id=1lx-GwWPUQ0a7iVBTYT5Q6Cdy_Sf5jz1v\"\n",
    "  ! tar xzvf pretrained.tar.gz"
   ]
  },
  {
   "cell_type": "code",
   "execution_count": null,
   "metadata": {},
   "outputs": [],
   "source": [
    "os.chdir(join(expanduser(\"~\"), gst_tacotron_dir))\n",
    "! pip install -q -r requirements.txt"
   ]
  },
  {
   "cell_type": "markdown",
   "metadata": {},
   "source": [
    "##Input texts to be synthesized"
   ]
  },
  {
   "cell_type": "markdown",
   "metadata": {},
   "source": [
    "###Choose your favorite sentences :)"
   ]
  },
  {
   "cell_type": "code",
   "execution_count": null,
   "metadata": {},
   "outputs": [],
   "source": [
    "os.chdir(join(expanduser(\"~\"), gst_tacotron_dir))\n",
    "! python eval.py --checkpoint ./logs-tacotron/model.ckpt-158000 --text \"Жаркие летние ночи.\" --reference_audio ./ref_audio/usr00032.wav"
   ]
  },
  {
   "cell_type": "markdown",
   "metadata": {},
   "source": [
    "###Summary: audio samples"
   ]
  },
  {
   "cell_type": "code",
   "execution_count": null,
   "metadata": {},
   "outputs": [],
   "source": []
  }
 ],
 "metadata": {
  "kernelspec": {
   "display_name": "Python 2",
   "language": "python",
   "name": "python2"
  },
  "language_info": {
   "codemirror_mode": {
    "name": "ipython",
    "version": 2
   },
   "file_extension": ".py",
   "mimetype": "text/x-python",
   "name": "python",
   "nbconvert_exporter": "python",
   "pygments_lexer": "ipython2",
   "version": "2.7.6"
  }
 },
 "nbformat": 4,
 "nbformat_minor": 0
}
